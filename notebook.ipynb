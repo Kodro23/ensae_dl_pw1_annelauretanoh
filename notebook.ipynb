{
 "cells": [
  {
   "cell_type": "markdown",
   "id": "17ec8d6a-4218-49b9-a549-0977cec82967",
   "metadata": {
    "id": "MVpsYfWg3z0B"
   },
   "source": [
    "# PW1 - Handwritten character recognition\n"
   ]
  },
  {
   "cell_type": "code",
   "execution_count": 1,
   "id": "d682452d-e56e-4de8-a420-4418d63790a7",
   "metadata": {},
   "outputs": [],
   "source": [
    "# Write your name here (e.g. \"Edmond Dantès\") so I can grade your work\n",
    "your_name = \"Anne-Laure Tanoh\"\n",
    "assert your_name"
   ]
  },
  {
   "cell_type": "code",
   "execution_count": 2,
   "id": "f8538cf7-81e0-481a-8059-be38b611aafb",
   "metadata": {
    "id": "8CcAqNjJ3z0F"
   },
   "outputs": [],
   "source": [
    "%matplotlib inline\n",
    "import math, sys, os, torch, torchvision\n",
    "from torch import nn\n",
    "import numpy as np\n",
    "import matplotlib.pyplot as plt"
   ]
  },
  {
   "cell_type": "code",
   "execution_count": 3,
   "id": "c864b86e-6e6b-4d8a-82c8-6822072a676f",
   "metadata": {
    "id": "3Wxb9pdV3z0F"
   },
   "outputs": [
    {
     "name": "stdout",
     "output_type": "stream",
     "text": [
      "Using gpu: False \n"
     ]
    }
   ],
   "source": [
    "device = torch.device(\"cuda:0\" if torch.cuda.is_available() else \"cpu\")\n",
    "print('Using gpu: %s ' % torch.cuda.is_available())"
   ]
  },
  {
   "cell_type": "markdown",
   "id": "aa038da6-b812-4053-9b72-8ff97ceb3b9b",
   "metadata": {
    "id": "1Sjq8zzf3z0G"
   },
   "source": [
    "We will be training many models. Select a number of epochs to train each model. If you are using a slow machine, or if you want to restart training often and have many development iterations, we suggest `NUM_EPOCH = 2`. If you are using a fast machine, or have a GPU available, of if you are confident that you can write accurate code first try, you will get better accuracies by increasing this constant. You could be able to afford up to `NUM_EPOCH = 10`."
   ]
  },
  {
   "cell_type": "code",
   "execution_count": 4,
   "id": "137adce6-13cc-4ccc-aaf3-42230e322a9b",
   "metadata": {
    "id": "L9CF0H4O3z0G"
   },
   "outputs": [],
   "source": [
    "NUM_EPOCH = 2"
   ]
  },
  {
   "cell_type": "code",
   "execution_count": 5,
   "id": "34ee1600",
   "metadata": {},
   "outputs": [],
   "source": [
    "#To store results\n",
    "experiments={}"
   ]
  },
  {
   "cell_type": "markdown",
   "id": "6ce850e9-ef4e-4323-af2d-be6b94e98994",
   "metadata": {
    "id": "65e20f5e"
   },
   "source": [
    "# Part A - Linear, MLP, and CNN\n"
   ]
  },
  {
   "cell_type": "markdown",
   "id": "05aff4bd-8b1d-4531-89d8-64ce4e2b6357",
   "metadata": {
    "id": "KSAiV2ov3z0H"
   },
   "source": [
    "## Handwritten digit recognition dataset\n",
    "\n",
    "We will use the MNIST database (Modified National Institute of Standards and Technology database). It contains tens of thousands of pictures of handwritten digits. This database was compiled in 1994, as part of the effort in the 1990s to standardize automation of sorting devices with human input, for instance sorting mail with handwritten postal codes at the post office. This is now often considered one of the first real successes of neural networks, and the first easy example on which performance of new such algorithms is tested."
   ]
  },
  {
   "cell_type": "markdown",
   "id": "3429898a-0f57-4cdf-9aa6-7b1121ee4e53",
   "metadata": {},
   "source": [
    "Load the dataset (train and test splits) using `torchvision`"
   ]
  },
  {
   "cell_type": "code",
   "execution_count": 6,
   "id": "59e1c523-4b78-492a-b103-2861af8c3d89",
   "metadata": {
    "id": "Zu3hU4dQ3z0H"
   },
   "outputs": [],
   "source": [
    "root_dir = './data/MNIST/'\n",
    "\n",
    "### YOUR CODE HERE ###\n",
    "train_minist=torchvision.datasets.MNIST(\n",
    "    root=root_dir,\n",
    "    train=True,\n",
    "    transform=torchvision.transforms.ToTensor(),\n",
    "    download=True\n",
    "    )\n",
    "test_minist=torchvision.datasets.MNIST(\n",
    "    root=root_dir,\n",
    "    train=False,\n",
    "    transform=torchvision.transforms.ToTensor(),\n",
    "    download=True\n",
    "    )"
   ]
  },
  {
   "cell_type": "markdown",
   "id": "d77fbaba-b01f-46d0-a1d7-47c59faaf042",
   "metadata": {},
   "source": [
    "How many examples in each split? \n",
    "\n",
    "Plot the first image and label of the training set using `matplotlib`\n",
    "\n",
    "What is the input dimension?"
   ]
  },
  {
   "cell_type": "code",
   "execution_count": 7,
   "id": "083f07f4-e129-4e9b-b26e-a32fd4bdb99d",
   "metadata": {
    "id": "9fgMls5P3z0I",
    "scrolled": true
   },
   "outputs": [
    {
     "name": "stdout",
     "output_type": "stream",
     "text": [
      "Label is: 5\n"
     ]
    },
    {
     "data": {
      "text/plain": [
       "<matplotlib.image.AxesImage at 0x7f5e0d36c0b0>"
      ]
     },
     "execution_count": 7,
     "metadata": {},
     "output_type": "execute_result"
    },
    {
     "data": {
      "image/png": "[encoded data removed]",
      "text/plain": [
       "<Figure size 640x480 with 1 Axes>"
      ]
     },
     "metadata": {},
     "output_type": "display_data"
    }
   ],
   "source": [
    "### YOUR CODE HERE ###\n",
    "\n",
    "print(\"Label is:\",train_minist.targets[0].item())\n",
    "plt.imshow(train_minist.data[0], cmap='gray', interpolation='none')\n"
   ]
  },
  {
   "cell_type": "code",
   "execution_count": 8,
   "id": "dc2fbd26-b017-435a-822e-ad382eabd8a4",
   "metadata": {},
   "outputs": [
    {
     "name": "stdout",
     "output_type": "stream",
     "text": [
      "Input dimension: torch.Size([28, 28])\n"
     ]
    }
   ],
   "source": [
    "### YOUR CODE HERE ###\n",
    "print(\"Input dimension:\",train_minist.data[0].shape)"
   ]
  },
  {
   "cell_type": "markdown",
   "id": "f6380c03-1427-4dea-974e-5a38621ea6c1",
   "metadata": {
    "id": "Guv5_hY63z0L"
   },
   "source": [
    "# A.1 - Linear features\n",
    "\n",
    "We start with a very simple model, linear with respect to pixel values.\n",
    "Use a `preprocess` function to downsample the image to 7x7 pixels, then flatten it and use a `torch.nn.Linear` model.\n",
    "\n",
    "The torch average-pooling function is `torch.nn.functional.avg_pool2d`, check the documentation to set the arguments properly.\n",
    "DO NOT use your implementation of average-pooling, it would take prohibitively long to train and you would not finish the practical.\n",
    "If the training takes too long, go back to the first section and lower the `NUM_EPOCH` constant."
   ]
  },
  {
   "cell_type": "markdown",
   "id": "f2bb8e5d-7d84-4a59-aa5d-e942ffa22aa8",
   "metadata": {},
   "source": [
    "Again, use matplotlib to visualize an example of downsampling"
   ]
  },
  {
   "cell_type": "code",
   "execution_count": 9,
   "id": "ac111d5c-dfa2-44e2-9a57-f2f4c2caff2d",
   "metadata": {},
   "outputs": [
    {
     "name": "stdout",
     "output_type": "stream",
     "text": [
      "Label is: 5\n"
     ]
    },
    {
     "data": {
      "text/plain": [
       "<matplotlib.image.AxesImage at 0x7f5e0a7d5af0>"
      ]
     },
     "execution_count": 9,
     "metadata": {},
     "output_type": "execute_result"
    },
    {
     "data": {
      "image/png": "[encoded data removed]",
      "text/plain": [
       "<Figure size 640x480 with 1 Axes>"
      ]
     },
     "metadata": {},
     "output_type": "display_data"
    }
   ],
   "source": [
    "### YOUR CODE HERE ###\n",
    "def preprocess(image):\n",
    "    resized_image=torch.nn.functional.avg_pool2d(image, kernel_size=4)\n",
    "    resized_image=resized_image.view(-1)\n",
    "    return resized_image\n",
    "image, label=train_minist[0]\n",
    "print(\"Label is:\",label)\n",
    "plt.imshow(preprocess(image).view(7, 7).detach(), cmap='gray', interpolation='none')"
   ]
  },
  {
   "cell_type": "code",
   "execution_count": 10,
   "id": "6aa4adcb-be17-4f0d-ba9f-4da062227230",
   "metadata": {
    "id": "2v3GqEPU3z0L"
   },
   "outputs": [],
   "source": [
    "### YOUR ( MODEL / PREPROCESSING ) CODE HERE ###\n",
    "class LinearModel(nn.Module):\n",
    "    def __init__(self):\n",
    "        super().__init__()\n",
    "        self.linear = nn.Linear(49, 10)  \n",
    "\n",
    "    def forward(self, x):\n",
    "        x = x.view(x.size(0), -1)\n",
    "        return self.linear(x)"
   ]
  },
  {
   "cell_type": "markdown",
   "id": "e5becae4-e27f-43ed-a1c5-ced8c16f4cac",
   "metadata": {
    "id": "qeWZ7DeNMG20"
   },
   "source": [
    "## A.2 - Loss and optimizer\n",
    "Create a cross entropy loss."
   ]
  },
  {
   "cell_type": "code",
   "execution_count": 11,
   "id": "a85b789e",
   "metadata": {
    "id": "a85b789e"
   },
   "outputs": [],
   "source": [
    "### YOUR CODE HERE ###\n",
    "loss = nn.CrossEntropyLoss()\n",
    "model=LinearModel()\n",
    "optimizer = torch.optim.SGD(model.parameters(), lr=0.1)"
   ]
  },
  {
   "cell_type": "markdown",
   "id": "43aec31b-3d2b-4b29-ad85-e88a6e25660a",
   "metadata": {
    "id": "ZCnlsh9iMhx_"
   },
   "source": [
    "## A.3 - Training and testing loops\n",
    "Finally, create the functions `train(model, epoch, preprocess, optimizer)` and `test(model)` to train (one epoch with SGD and a learning rate of $10^{-3}$) and test your model."
   ]
  },
  {
   "cell_type": "code",
   "execution_count": 12,
   "id": "acac0ad9",
   "metadata": {},
   "outputs": [],
   "source": [
    "from torchmetrics import Accuracy"
   ]
  },
  {
   "cell_type": "code",
   "execution_count": 13,
   "id": "06c065ff",
   "metadata": {},
   "outputs": [
    {
     "name": "stdout",
     "output_type": "stream",
     "text": [
      "60000  examples in train split\n",
      "10000  examples in test split\n"
     ]
    }
   ],
   "source": [
    "batch_size=256\n",
    "trainloader = torch.utils.data.DataLoader(train_minist, batch_size=batch_size, shuffle=True)\n",
    "testloader = torch.utils.data.DataLoader(test_minist, batch_size=batch_size, shuffle=False)\n",
    "print(len(train_minist),\" examples in train split\")\n",
    "print(len(test_minist),\" examples in test split\")"
   ]
  },
  {
   "cell_type": "code",
   "execution_count": 14,
   "id": "9749c5e0",
   "metadata": {},
   "outputs": [],
   "source": [
    "def train(model, epoch, preprocess, optimizer):\n",
    "    model.to(device).train()\n",
    "    accuracy_metric = Accuracy(task=\"multiclass\", num_classes=10).to(device)\n",
    "    total_acc = 0.0\n",
    "\n",
    "    for ep in range(epoch):\n",
    "        accuracy_metric.reset()\n",
    "        for inputs, labels in trainloader:\n",
    "            # preprocess + move to device\n",
    "            images = torch.stack([preprocess(img) for img in inputs]).to(device)\n",
    "            labels = labels.to(device)\n",
    "\n",
    "            # forward / backward / step\n",
    "            optimizer.zero_grad()\n",
    "            outputs     = model(images)\n",
    "            loss_value  = loss(outputs, labels)\n",
    "            loss_value.backward()\n",
    "            optimizer.step()\n",
    "\n",
    "            # update accuracy metric\n",
    "            accuracy_metric.update(outputs.argmax(dim=1), labels)\n",
    "\n",
    "        # accumulate per‐epoch accuracy\n",
    "        epoch_acc = accuracy_metric.compute().item()\n",
    "        total_acc += epoch_acc\n",
    "\n",
    "    train_accuracy = total_acc / epoch\n",
    "    print(f\"Training Accuracy: {train_accuracy:.2%}\")\n",
    "    return optimizer, train_accuracy"
   ]
  },
  {
   "cell_type": "code",
   "execution_count": 15,
   "id": "3484a76e",
   "metadata": {},
   "outputs": [],
   "source": [
    "def test(model, preprocess):\n",
    "    model.to(device).eval()\n",
    "    accuracy_metric = Accuracy(task=\"multiclass\", num_classes=10).to(device)\n",
    "    preds, targets = [], []\n",
    "\n",
    "    with torch.no_grad():\n",
    "        for inputs, labels in testloader:\n",
    "            images = torch.stack([preprocess(img) for img in inputs]).to(device)\n",
    "            labels = labels.to(device)\n",
    "\n",
    "            outputs = model(images)\n",
    "            preds.append(outputs.argmax(dim=1))\n",
    "            targets.append(labels)\n",
    "\n",
    "    preds   = torch.cat(preds)\n",
    "    targets = torch.cat(targets)\n",
    "    accuracy_metric.update(preds, targets)\n",
    "    test_accuracy = accuracy_metric.compute().item()\n",
    "    features=()\n",
    "    print(f\"Test Accuracy: {test_accuracy:.2%}\")\n",
    "    return [preds,targets,test_accuracy]"
   ]
  },
  {
   "cell_type": "markdown",
   "id": "aa359382-2580-44ae-bcdb-3f18cf1f4c61",
   "metadata": {
    "id": "_t4SiXk33z0L"
   },
   "source": [
    "You should get at least 85\\% test accuracy even with only 2 epochs. We will be aiming for around 95\\% test accuracy and above."
   ]
  },
  {
   "cell_type": "code",
   "execution_count": 16,
   "id": "6f12bf85-45c6-41d9-87f3-0601bc4b6339",
   "metadata": {
    "id": "nBmfvtl6UbUe",
    "scrolled": true
   },
   "outputs": [
    {
     "name": "stdout",
     "output_type": "stream",
     "text": [
      "Training Accuracy: 65.97%\n"
     ]
    }
   ],
   "source": [
    "### YOUR CODE HERE ###\n",
    "optimizer, train_acc = train(model, NUM_EPOCH, preprocess, optimizer)"
   ]
  },
  {
   "cell_type": "code",
   "execution_count": 17,
   "id": "3baedd5a",
   "metadata": {},
   "outputs": [
    {
     "name": "stdout",
     "output_type": "stream",
     "text": [
      "Test Accuracy: 78.26%\n"
     ]
    }
   ],
   "source": [
    "test_acc = test(model, preprocess)[2]"
   ]
  },
  {
   "cell_type": "code",
   "execution_count": 18,
   "id": "35f6d05a",
   "metadata": {},
   "outputs": [],
   "source": [
    "experiments[\"linear\"]=[train_acc, test_acc]"
   ]
  },
  {
   "cell_type": "markdown",
   "id": "bf28bb4e-7178-4340-9247-f69591e86dcf",
   "metadata": {
    "id": "RrwYAMMBEUPN"
   },
   "source": [
    "## A.4 - Multi-layer perceptron (MLP)\n",
    "\n",
    "Create a class MLP that creates an MLP of given width and depth, and use it to create a 3-layer MLP of width $100$. We will assume that `width > 0` and `depth > 0`."
   ]
  },
  {
   "cell_type": "code",
   "execution_count": 19,
   "id": "79cb6479-d475-4f0e-b0f7-fdd107d9e835",
   "metadata": {
    "colab": {
     "base_uri": "https://localhost:8080/"
    },
    "id": "e8353cd9",
    "outputId": "c7f5eeaf-0638-45c3-842e-4372d21ff712"
   },
   "outputs": [],
   "source": [
    "### YOUR CODE HERE ###\n",
    "class MLP(nn.Module):\n",
    "    def __init__(self,depth,width):\n",
    "        super().__init__()\n",
    "        if width < 0 or depth < 0:\n",
    "            raise ValueError(\"Width and depth must be non-negative.\") \n",
    "        self.width=width\n",
    "        self.depth=depth\n",
    "        layers=[]\n",
    "\n",
    "        if self.depth == 0:\n",
    "            layers.append(nn.Linear(49, 10))\n",
    "        else:\n",
    "            # First hidden layer\n",
    "            layers.append(nn.Linear(49, self.width))\n",
    "            layers.append(nn.ReLU())\n",
    "            for num_layer  in range(1,self.depth):\n",
    "                layers.append(nn.Linear(self.width, self.width))\n",
    "                layers.append(nn.ReLU())\n",
    "            # Output layer\n",
    "            layers.append(nn.Linear(self.width, 10))\n",
    "\n",
    "        self.model = nn.Sequential(*layers)\n",
    "\n",
    "    def forward(self, x):\n",
    "        return self.model(x)\n",
    "\n",
    "\n"
   ]
  },
  {
   "cell_type": "code",
   "execution_count": 20,
   "id": "1841a548",
   "metadata": {},
   "outputs": [
    {
     "name": "stdout",
     "output_type": "stream",
     "text": [
      "Training Accuracy: 37.73%\n"
     ]
    }
   ],
   "source": [
    "model=MLP(3,100)\n",
    "optimizer = torch.optim.SGD(model.parameters(), lr=0.1)\n",
    "optimizer, train_acc = train(model, NUM_EPOCH, preprocess, optimizer)"
   ]
  },
  {
   "cell_type": "code",
   "execution_count": 21,
   "id": "25f30c3b",
   "metadata": {},
   "outputs": [
    {
     "name": "stdout",
     "output_type": "stream",
     "text": [
      "Test Accuracy: 67.90%\n"
     ]
    }
   ],
   "source": [
    "test_acc = test(model, preprocess)[2]"
   ]
  },
  {
   "cell_type": "code",
   "execution_count": 22,
   "id": "ec4d22c2",
   "metadata": {},
   "outputs": [],
   "source": [
    "experiments[\"MLP\"]=[train_acc, test_acc]"
   ]
  },
  {
   "cell_type": "markdown",
   "id": "76ca5a11-93e4-47ab-81f1-e4ee3cae45c9",
   "metadata": {
    "id": "v1czyC9R3z0R"
   },
   "source": [
    "# A.5 - Deep convolutional model\n",
    "\n",
    "Write a convolutional model, with learned features.\n",
    "Use two layers, one convolutional with 8 filters of size 3x3, then take a relu and max-pool with kernel size 2, and finally flatten and add a Linear layer. You can use the identity as pre-processing function."
   ]
  },
  {
   "cell_type": "markdown",
   "id": "4933e318-5521-4bf8-b011-bdb95ed0d8b0",
   "metadata": {},
   "source": [
    "\n",
    "Here is a little animation to remind you of the sliding window principle of convolutions.\n",
    "\n",
    "![conv](https://github.com//vdumoulin/conv_arithmetic/raw/master/gif/no_padding_no_strides.gif)"
   ]
  },
  {
   "cell_type": "code",
   "execution_count": 23,
   "id": "44c87b30-36d7-4567-b009-a41413afac5b",
   "metadata": {
    "id": "l4QOi_oe3z0R"
   },
   "outputs": [],
   "source": [
    "class ConvModel(torch.nn.Module):\n",
    "    def __init__(self):\n",
    "        super(ConvModel, self).__init__()\n",
    "        self.layer1 = nn.Sequential(\n",
    "            nn.Conv2d(1, 8, kernel_size=3),\n",
    "            nn.ReLU(),\n",
    "            nn.MaxPool2d(kernel_size=2))\n",
    "        self.classifier = nn.Sequential(\n",
    "            nn.Linear(13 * 13 * 8, 500),\n",
    "            nn.ReLU(),\n",
    "            nn.Linear(500, 10),\n",
    "        )\n",
    "\n",
    "    def forward(self,x):\n",
    "        x = self.layer1(x)\n",
    "        x = x.view(x.size(0), -1)  # Flatten\n",
    "        x = self.classifier(x)\n",
    "        return x\n"
   ]
  },
  {
   "cell_type": "code",
   "execution_count": 24,
   "id": "4b8e1081",
   "metadata": {},
   "outputs": [
    {
     "name": "stdout",
     "output_type": "stream",
     "text": [
      "Training Accuracy: 86.80%\n"
     ]
    }
   ],
   "source": [
    "model=ConvModel()\n",
    "optimizer = torch.optim.SGD(model.parameters(), lr=0.1)\n",
    "def preprocess2(image):\n",
    "    return image\n",
    "optimizer, train_acc = train(model, NUM_EPOCH, preprocess2, optimizer)\n"
   ]
  },
  {
   "cell_type": "code",
   "execution_count": 25,
   "id": "2087fd7a",
   "metadata": {},
   "outputs": [
    {
     "name": "stdout",
     "output_type": "stream",
     "text": [
      "Test Accuracy: 93.35%\n"
     ]
    }
   ],
   "source": [
    "test_acc = test(model, preprocess2)[2]"
   ]
  },
  {
   "cell_type": "code",
   "execution_count": 26,
   "id": "8bd4e8ce",
   "metadata": {},
   "outputs": [],
   "source": [
    "experiments[\"simple_conv\"]=[train_acc, test_acc]"
   ]
  },
  {
   "cell_type": "markdown",
   "id": "a0313eed-03ad-461d-9ddb-bb690c631149",
   "metadata": {
    "id": "pbQ1LUqf3z0R"
   },
   "source": [
    "You should be able to get around 97\\% to 98\\% accuracy with this model. Try increasing the NUM_EPOCH constant and watch what happens to test accuracy and train accuracy as training progresses further.\n",
    "\n",
    "Write a deeper convolutional model, with one convolutional layer as previously, but three linear layers with relu activations after that.\n",
    "Use `h = 100` hidden neurons. How does the test accuracy compare with the previous two-layer network ?"
   ]
  },
  {
   "cell_type": "code",
   "execution_count": 27,
   "id": "792791e1-0514-4749-a3fb-d27eb10a1bd2",
   "metadata": {
    "id": "YM-OhC123z0R"
   },
   "outputs": [],
   "source": [
    "class ConvDeepModel(torch.nn.Module):\n",
    "    def __init__(self, h=100):\n",
    "        super(ConvDeepModel, self).__init__()\n",
    "        ### YOUR CODE HERE ###\n",
    "        self.conv = nn.Sequential(\n",
    "            nn.Conv2d(1, 8, kernel_size=3),\n",
    "            nn.ReLU(),\n",
    "            nn.MaxPool2d(kernel_size=2))\n",
    "        self.classifier = nn.Sequential(\n",
    "            nn.Linear(13 * 13 * 8, h),\n",
    "            nn.Linear(h, h),\n",
    "            nn.Linear(h, 10),\n",
    "        )\n",
    "\n",
    "    def forward(self,x):\n",
    "        x = self.conv(x)\n",
    "        x = x.view(x.size(0), -1)  # Flatten\n",
    "        x = self.classifier(x)\n",
    "        return x\n"
   ]
  },
  {
   "cell_type": "code",
   "execution_count": 28,
   "id": "7903899d",
   "metadata": {},
   "outputs": [
    {
     "name": "stdout",
     "output_type": "stream",
     "text": [
      "Training Accuracy: 85.29%\n"
     ]
    }
   ],
   "source": [
    "model=ConvDeepModel()\n",
    "optimizer = torch.optim.SGD(model.parameters(), lr=0.1)\n",
    "def preprocess2(image):\n",
    "    return image\n",
    "optimizer, train_acc = train(model, NUM_EPOCH, preprocess2, optimizer)\n"
   ]
  },
  {
   "cell_type": "code",
   "execution_count": 29,
   "id": "02d35b6a",
   "metadata": {},
   "outputs": [
    {
     "name": "stdout",
     "output_type": "stream",
     "text": [
      "Test Accuracy: 87.82%\n"
     ]
    }
   ],
   "source": [
    "test_acc = test(model, preprocess2)[2]"
   ]
  },
  {
   "cell_type": "code",
   "execution_count": 30,
   "id": "b1505752",
   "metadata": {},
   "outputs": [],
   "source": [
    "experiments[\"deep_conv\"]=[train_acc, test_acc]"
   ]
  },
  {
   "cell_type": "markdown",
   "id": "46fd763b-b36a-461c-ad34-f472e62ce46d",
   "metadata": {},
   "source": [
    "## A.6 Visualisations of convolutions\n",
    "\n",
    "After training your model, let's see what features it has learned!\n",
    "\n",
    "Plot an image from the test set then plot all 8 feature maps extracted by the convolutional layer"
   ]
  },
  {
   "cell_type": "code",
   "execution_count": 31,
   "id": "0e5284c2-4210-4ccc-bf05-5e722bdabf63",
   "metadata": {},
   "outputs": [
    {
     "data": {
      "image/png": "[encoded data removed]",
      "text/plain": [
       "<Figure size 1500x500 with 8 Axes>"
      ]
     },
     "metadata": {},
     "output_type": "display_data"
    }
   ],
   "source": [
    "### YOUR CODE HERE ###\n",
    "images, labels = next(iter(testloader))\n",
    "img = images[0].unsqueeze(0).to(device)  \n",
    "\n",
    "\n",
    "with torch.no_grad():\n",
    "    conv_output = model.conv(img)  \n",
    "\n",
    "fig, axes = plt.subplots(1, 8, figsize=(15, 5))\n",
    "for i in range(8):\n",
    "    axes[i].imshow(conv_output[0, i].cpu(), cmap='gray')\n",
    "    axes[i].axis('off')\n",
    "    axes[i].set_title(f\"Map {i+1}\")\n",
    "plt.suptitle(\"Feature maps de la 1ère couche conv\")\n",
    "plt.show()"
   ]
  },
  {
   "cell_type": "markdown",
   "id": "dc457ad1-3240-4ffb-a8f3-98c6554dfce5",
   "metadata": {
    "id": "riu_K1at3z0R"
   },
   "source": [
    "# Part B - Residual models\n",
    "\n",
    "## B.1 - Residual blocks\n",
    "\n",
    "Write a residual block with two linear layers to learn a function $\\mathbb{R}^d \\to \\mathbb{R}^d$ with $h < d$ hidden neurons.\n",
    "Write a convolutional residual block with the same idea. What hyperparameter acts as the number of hidden neurons in convolutional blocks ?"
   ]
  },
  {
   "cell_type": "code",
   "execution_count": 32,
   "id": "aec298d4-4372-4a1f-be53-a278d051c0f6",
   "metadata": {
    "id": "gkCILVwd3z0R"
   },
   "outputs": [],
   "source": [
    "class ResidualBlock(torch.nn.Module):\n",
    "    def __init__(self, d, h):\n",
    "        super(ResidualBlock, self).__init__()\n",
    "        self.d=d\n",
    "        self.layer = nn.Sequential(\n",
    "            nn.Linear(d, h),\n",
    "            nn.ReLU(),\n",
    "            nn.Linear(h, d)\n",
    "        )\n",
    "        self.classifier=nn.Linear(self.d, 10)\n",
    "    def forward(self, x):\n",
    "        out = self.layer(x)\n",
    "        res=torch.nn.functional.relu(x+out) \n",
    "        res=self.classifier(res)\n",
    "        return res        "
   ]
  },
  {
   "cell_type": "code",
   "execution_count": 33,
   "id": "56bf7e4f",
   "metadata": {},
   "outputs": [
    {
     "name": "stdout",
     "output_type": "stream",
     "text": [
      "Training Accuracy: 68.90%\n",
      "Test Accuracy: 82.92%\n"
     ]
    }
   ],
   "source": [
    "model=ResidualBlock(49,32)\n",
    "optimizer = torch.optim.SGD(model.parameters(), lr=0.1)\n",
    "optimizer, train_acc = train(model, NUM_EPOCH, preprocess, optimizer)\n",
    "test_acc = test(model, preprocess)[2]"
   ]
  },
  {
   "cell_type": "code",
   "execution_count": 34,
   "id": "68a89736",
   "metadata": {},
   "outputs": [],
   "source": [
    "experiments[\"res_block\"]=[train_acc, test_acc]"
   ]
  },
  {
   "cell_type": "code",
   "execution_count": 35,
   "id": "4c071ce6",
   "metadata": {},
   "outputs": [],
   "source": [
    "class ResidualConv(nn.Module):\n",
    "    def __init__(self, d,h):\n",
    "        self.d=d\n",
    "        super().__init__()\n",
    "        ### YOUR CODE HERE ###\n",
    "        self.conv = nn.Sequential(\n",
    "            nn.Conv2d(d, h, kernel_size=3,padding=1),\n",
    "            nn.ReLU(),\n",
    "            nn.MaxPool2d(kernel_size=2),\n",
    "            nn.Conv2d(h, d, kernel_size=3,padding=1),\n",
    "            nn.ReLU(),\n",
    "            nn.MaxPool2d(kernel_size=2),  \n",
    "        )\n",
    "        self.classifier=nn.Linear(self.d*7*7, 10)\n",
    "        self.downsample = nn.Sequential(\n",
    "            nn.MaxPool2d(kernel_size=2),\n",
    "            nn.MaxPool2d(kernel_size=2)\n",
    "            )\n",
    "    def forward(self,x):\n",
    "        out = self.conv(x)\n",
    "        res=torch.nn.functional.relu(self.downsample(x)+out)\n",
    "        res=self.classifier(res.view(res.size(0), -1))\n",
    "        return res\n"
   ]
  },
  {
   "cell_type": "code",
   "execution_count": 36,
   "id": "5ae61bfb",
   "metadata": {},
   "outputs": [
    {
     "name": "stdout",
     "output_type": "stream",
     "text": [
      "Training Accuracy: 76.95%\n",
      "Test Accuracy: 88.63%\n"
     ]
    }
   ],
   "source": [
    "model=ResidualConv(1,32)\n",
    "optimizer = torch.optim.SGD(model.parameters(), lr=0.1)\n",
    "optimizer, train_acc = train(model, NUM_EPOCH, preprocess2, optimizer)\n",
    "test_acc = test(model, preprocess2)[2]\n"
   ]
  },
  {
   "cell_type": "code",
   "execution_count": 37,
   "id": "7961d50d",
   "metadata": {},
   "outputs": [],
   "source": [
    "experiments[\"res_conv_block\"]=[train_acc, test_acc]"
   ]
  },
  {
   "cell_type": "markdown",
   "id": "74c86d9e",
   "metadata": {},
   "source": [
    "L'hyperparametre qui joue le role du nombre de couches cachés est h"
   ]
  },
  {
   "cell_type": "markdown",
   "id": "8cc0097d-269c-40f4-b182-bdc79bd5c512",
   "metadata": {
    "id": "huKWOvVc3z0S"
   },
   "source": [
    "## B.2 - Stacking residual blocks\n",
    "\n",
    "Use a single convolution layer, followed by a relu and max-pool, then an arbitrary number of residual blocks as defined above, and finish with a linear layer. Can you match the accuracy of the two-layer network ? Can you exceed it ? What happens when you increase the number of layers ? Look at the details of the ResNet architecture on the lecture's slides to get an idea of how to increase the number of hidden neurons and the number of layers. One of the strengths of ResNets was there relatively low number of parameters compared\n",
    "to a multi-layer architecture like that of the previous section, does this show in your experiments ?"
   ]
  },
  {
   "cell_type": "code",
   "execution_count": 43,
   "id": "bf0d4de4-11e8-490c-8262-064b3e841fa5",
   "metadata": {
    "id": "U4gg9uWg3z0S"
   },
   "outputs": [],
   "source": [
    "class ResidualModel(torch.nn.Module):\n",
    "    def __init__(self, d, h, k=3, out=10):\n",
    "        super(ResidualModel, self).__init__()\n",
    "        ### YOUR CODE HERE ###\n",
    "        self.h=h\n",
    "        self.d=d\n",
    "        self.conv = nn.Sequential(\n",
    "            nn.Conv2d(d, h, kernel_size=3,padding=1),\n",
    "            nn.ReLU(),\n",
    "            nn.MaxPool2d(kernel_size=2)\n",
    "        )\n",
    "        # Residual blocks\n",
    "        self.residual_blocks = nn.ModuleList([\n",
    "            ResidualConv(h, h) for _ in range(k)\n",
    "        ])\n",
    "        self.classifier=nn.Linear(self.d*h*14*14, 10)\n",
    "        self.downsample = nn.Sequential(\n",
    "            nn.MaxPool2d(kernel_size=2)\n",
    "            )\n",
    "    def forward(self,x):\n",
    "        out = self.conv(x)\n",
    "        res=torch.nn.functional.relu(self.downsample(x)+out)\n",
    "        res=self.classifier(res.view(res.size(0), -1))\n",
    "        return res"
   ]
  },
  {
   "cell_type": "code",
   "execution_count": 44,
   "id": "d6450b18",
   "metadata": {},
   "outputs": [
    {
     "name": "stdout",
     "output_type": "stream",
     "text": [
      "Training Accuracy: 85.46%\n",
      "Test Accuracy: 87.10%\n"
     ]
    }
   ],
   "source": [
    "model=ResidualModel(1,32)\n",
    "optimizer = torch.optim.SGD(model.parameters(), lr=0.1)\n",
    "optimizer, train_acc = train(model, NUM_EPOCH, preprocess2, optimizer)\n",
    "test_acc = test(model, preprocess2)[2]\n",
    "experiments[\"res_stack\"]=[train_acc, test_acc]"
   ]
  },
  {
   "cell_type": "markdown",
   "id": "c291385b",
   "metadata": {},
   "source": [
    "We match the accuracy on the test set, and exceed it on the train set"
   ]
  },
  {
   "cell_type": "code",
   "execution_count": 47,
   "id": "a79a3ba9",
   "metadata": {},
   "outputs": [],
   "source": [
    "import pandas as pd\n",
    "import matplotlib.pyplot as plt"
   ]
  },
  {
   "cell_type": "code",
   "execution_count": 54,
   "id": "e531631e",
   "metadata": {},
   "outputs": [
    {
     "data": {
      "text/html": [
       "<div>\n",
       "<style scoped>\n",
       "    .dataframe tbody tr th:only-of-type {\n",
       "        vertical-align: middle;\n",
       "    }\n",
       "\n",
       "    .dataframe tbody tr th {\n",
       "        vertical-align: top;\n",
       "    }\n",
       "\n",
       "    .dataframe thead th {\n",
       "        text-align: right;\n",
       "    }\n",
       "</style>\n",
       "<table border=\"1\" class=\"dataframe\">\n",
       "  <thead>\n",
       "    <tr style=\"text-align: right;\">\n",
       "      <th></th>\n",
       "      <th>train</th>\n",
       "      <th>test</th>\n",
       "    </tr>\n",
       "  </thead>\n",
       "  <tbody>\n",
       "    <tr>\n",
       "      <th>linear</th>\n",
       "      <td>0.659742</td>\n",
       "      <td>0.7826</td>\n",
       "    </tr>\n",
       "    <tr>\n",
       "      <th>MLP</th>\n",
       "      <td>0.377300</td>\n",
       "      <td>0.6790</td>\n",
       "    </tr>\n",
       "    <tr>\n",
       "      <th>simple_conv</th>\n",
       "      <td>0.867975</td>\n",
       "      <td>0.9335</td>\n",
       "    </tr>\n",
       "    <tr>\n",
       "      <th>deep_conv</th>\n",
       "      <td>0.852867</td>\n",
       "      <td>0.8782</td>\n",
       "    </tr>\n",
       "    <tr>\n",
       "      <th>res_block</th>\n",
       "      <td>0.688975</td>\n",
       "      <td>0.8292</td>\n",
       "    </tr>\n",
       "    <tr>\n",
       "      <th>res_conv_block</th>\n",
       "      <td>0.769458</td>\n",
       "      <td>0.8863</td>\n",
       "    </tr>\n",
       "    <tr>\n",
       "      <th>res_stack</th>\n",
       "      <td>0.854642</td>\n",
       "      <td>0.8710</td>\n",
       "    </tr>\n",
       "  </tbody>\n",
       "</table>\n",
       "</div>"
      ],
      "text/plain": [
       "                   train    test\n",
       "linear          0.659742  0.7826\n",
       "MLP             0.377300  0.6790\n",
       "simple_conv     0.867975  0.9335\n",
       "deep_conv       0.852867  0.8782\n",
       "res_block       0.688975  0.8292\n",
       "res_conv_block  0.769458  0.8863\n",
       "res_stack       0.854642  0.8710"
      ]
     },
     "execution_count": 54,
     "metadata": {},
     "output_type": "execute_result"
    }
   ],
   "source": [
    "experiments_df=pd.DataFrame(experiments, index=[\"train\", \"test\"]).T\n",
    "experiments_df"
   ]
  },
  {
   "cell_type": "code",
   "execution_count": 56,
   "id": "a087d3bb",
   "metadata": {},
   "outputs": [
    {
     "data": {
      "image/png": "[encoded data removed]",
      "text/plain": [
       "<Figure size 1000x600 with 1 Axes>"
      ]
     },
     "metadata": {},
     "output_type": "display_data"
    }
   ],
   "source": [
    "# Plot\n",
    "plt.figure(figsize=(10, 6))\n",
    "plt.plot(experiments_df.index, experiments_df.train, marker='o', label='Train Accuracy')\n",
    "plt.plot(experiments_df.index, experiments_df.test, marker='s', label='Test Accuracy')\n",
    "\n",
    "# Style\n",
    "plt.xticks(rotation=45)\n",
    "plt.ylim(0.3, 1.0)\n",
    "plt.grid(True, linestyle='--', alpha=0.6)\n",
    "plt.title(\"Model Comparison: Train vs Test Accuracy\")\n",
    "plt.ylabel(\"Accuracy\")\n",
    "plt.legend()\n",
    "plt.tight_layout()\n",
    "\n",
    "# Show\n",
    "plt.show()"
   ]
  },
  {
   "cell_type": "markdown",
   "id": "df418703-b1e1-4276-8ba7-dd5622c7b7cd",
   "metadata": {
    "id": "2nes_ZtBoBu0"
   },
   "source": [
    "# Part C - Reimplementing loss functions\n",
    "\n",
    "## C.0 - Combining losses\n",
    "First, we recall that, for a batch of score vectors $s\\in\\mathbb{R}^{n\\times C}$ and true labels $y\\in[1,C]^n$, **cross entropy** is defined as\n",
    "$$CE(s, y) = -\\frac{1}{n}\\sum_{i=1}^n \\log\\left( \\mbox{softmax}(s_i)_{y_i} \\right)$$\n",
    "\n",
    "where $\\mbox{softmax}(x)_i = \\frac{e^{x_i}}{\\sum_{j=1}^n e^{x_j}}$ is the probability associated to class $i\\in[1,C]$ for a score vector $x\\in\\mathbb{R}^C$.\n",
    "\n",
    "Let's try to compute cross-entropy in three different ways (see the [documentation](https://pytorch.org/docs/stable/generated/torch.nn.CrossEntropyLoss.html)):\n",
    "1. Using `nn.CrossEntropyLoss()`.\n",
    "2. Using `nn.NLLLoss()` and `nn.LogSoftmax()`.\n",
    "3. Using `nn.NLLLoss()` and `nn.Softmax()`.\n",
    "\n",
    "Check that the output is the same for all three methods on Gaussian random scores `torch.randn(n_batch, n_classes)` and random labels `torch.randint(0, n_classes, [n_batch])`, where `n_batch=4` and `n_classes=10`. Note that the scores are real valued vectors while the labels are integers corresponding to the true class."
   ]
  },
  {
   "cell_type": "code",
   "execution_count": 73,
   "id": "e1b6c172",
   "metadata": {
    "id": "e1b6c172"
   },
   "outputs": [],
   "source": [
    "### YOUR CODE HERE ###\n",
    "n_batch=4\n",
    "n_classes=10\n",
    "scores=torch.randn(n_batch, n_classes)\n",
    "labels=torch.randint(0, n_classes, [n_batch])"
   ]
  },
  {
   "cell_type": "code",
   "execution_count": 75,
   "id": "14ff71e1",
   "metadata": {},
   "outputs": [
    {
     "name": "stdout",
     "output_type": "stream",
     "text": [
      "Cross entropy loss: 2.6370277404785156\n",
      "NLLLoss + LogSoftmax: 2.6370277404785156\n",
      "NLLLoss + Softmax: -0.07836632430553436\n"
     ]
    }
   ],
   "source": [
    "#Cross entropy\n",
    "loss=nn.CrossEntropyLoss()\n",
    "print(\"Cross entropy loss:\",loss(scores, labels).item() )\n",
    "#NLLloss 1\n",
    "loss=nn.NLLLoss()\n",
    "LogSoftmax = nn.LogSoftmax(dim=1)\n",
    "print(\"NLLLoss + LogSoftmax:\",loss(LogSoftmax(scores), labels).item() )\n",
    "#NLLloss 2\n",
    "loss=nn.NLLLoss()\n",
    "Softmax = nn.Softmax(dim=1)\n",
    "print(\"NLLLoss + Softmax:\",loss(Softmax(scores), labels).item() )"
   ]
  },
  {
   "cell_type": "markdown",
   "id": "d67821fb",
   "metadata": {},
   "source": [
    "NLLLoss + Softmax doesn't match"
   ]
  },
  {
   "cell_type": "markdown",
   "id": "bba900c6-f7b2-4179-a2f1-f1eede4b6697",
   "metadata": {
    "id": "TWKaTBVd5ftN"
   },
   "source": [
    "## C.1 - Re-implementation\n",
    "Now re-implement cross-entropy using base functions (`torch.log`, `torch.exp`, `torch.sum`, etc...). Verify that your function returns the same value as Pytorch's implementation."
   ]
  },
  {
   "cell_type": "code",
   "execution_count": 74,
   "id": "EfA-3-E7qwgF",
   "metadata": {
    "id": "EfA-3-E7qwgF"
   },
   "outputs": [
    {
     "name": "stdout",
     "output_type": "stream",
     "text": [
      "Manual cross entropy loss: 2.6370277404785156\n"
     ]
    }
   ],
   "source": [
    "def ce(logits, targets):\n",
    "    #log-sum-exp\n",
    "    log_sum_exp = torch.log(torch.sum(torch.exp(logits), dim=1))\n",
    "    #logits of targets\n",
    "    targets_logits = logits[torch.arange(logits.size(0)), targets]\n",
    "    # Difference\n",
    "    loss = log_sum_exp-targets_logits\n",
    "    return loss.mean().item()\n",
    "print(\"Manual cross entropy loss:\",ce(scores, labels) )"
   ]
  },
  {
   "cell_type": "markdown",
   "id": "da32ef6b",
   "metadata": {},
   "source": [
    "We have the same result"
   ]
  },
  {
   "cell_type": "markdown",
   "id": "011ec13a-330a-4073-99b9-2eb9dd42d1f8",
   "metadata": {
    "id": "OFG0QfKN7WtO"
   },
   "source": [
    "## C.2 - Stability analysis\n",
    "Softmax probabilities can be relatively unstable due to their use of exponentials. Pytorch implementations thus usually use log probas or logits to avoid overflows or floating point errors. Test all methods (including your own) on Gaussian random scores of standard deviation equal to $100$. Which methods are stable? Why? Is it an issue in practice?"
   ]
  },
  {
   "cell_type": "code",
   "execution_count": 76,
   "id": "741771f5-864d-446a-b654-3b4f5a2598ca",
   "metadata": {},
   "outputs": [
    {
     "name": "stdout",
     "output_type": "stream",
     "text": [
      "Cross entropy loss: 90.94925689697266\n",
      "NLLLoss + LogSoftmax: 90.94925689697266\n",
      "NLLLoss + Softmax: -0.25\n",
      "Manual cross entropy loss: inf\n"
     ]
    }
   ],
   "source": [
    "### YOUR CODE HERE ###\n",
    "scores=torch.randn(n_batch, n_classes)*100\n",
    "labels=torch.randint(0, n_classes, [n_batch])\n",
    "#Cross entropy\n",
    "loss=nn.CrossEntropyLoss()\n",
    "print(\"Cross entropy loss:\",loss(scores, labels).item() )\n",
    "#NLLloss 1\n",
    "loss=nn.NLLLoss()\n",
    "LogSoftmax = nn.LogSoftmax(dim=1)\n",
    "print(\"NLLLoss + LogSoftmax:\",loss(LogSoftmax(scores), labels).item() )\n",
    "#NLLloss 2\n",
    "loss=nn.NLLLoss()\n",
    "Softmax = nn.Softmax(dim=1)\n",
    "print(\"NLLLoss + Softmax:\",loss(Softmax(scores), labels).item() )\n",
    "#Manual loss\n",
    "print(\"Manual cross entropy loss:\",ce(scores, labels) )\n"
   ]
  },
  {
   "cell_type": "markdown",
   "id": "3d1724d4",
   "metadata": {},
   "source": [
    "The sotfmax is way off and the manual entropy is unstable. It is because it uses exponential in the formula so for very large numbers, it explodes.\n"
   ]
  },
  {
   "cell_type": "markdown",
   "id": "5ecaaf7c-b21f-4e18-ac53-1a77adbc60bf",
   "metadata": {
    "id": "Y3y4BfwbBIGy"
   },
   "source": [
    "Re-implement a stable version of cross-entropy."
   ]
  },
  {
   "cell_type": "code",
   "execution_count": 79,
   "id": "83d00dab-a37e-48da-880f-81f10efdc133",
   "metadata": {},
   "outputs": [],
   "source": [
    "def stable_ce(logits, targets):\n",
    "    # Subtract the max value in each row for numerical stability (source: https://jaykmody.com/blog/stable-softmax/)\n",
    "    max_logits = torch.max(logits, dim=1, keepdim=True).values\n",
    "    log_sum_exp = torch.log(torch.sum(torch.exp(logits - max_logits), dim=1)) + max_logits.squeeze(1)\n",
    "    targets_logits = logits[torch.arange(logits.size(0)), targets]\n",
    "    \n",
    "    # Difference between\n",
    "    loss = log_sum_exp - targets_logits\n",
    "    \n",
    "    return loss.mean().item()"
   ]
  },
  {
   "cell_type": "code",
   "execution_count": 80,
   "id": "8a9ccd32",
   "metadata": {},
   "outputs": [
    {
     "name": "stdout",
     "output_type": "stream",
     "text": [
      "Manual cross entropy loss: 90.94925689697266\n"
     ]
    }
   ],
   "source": [
    "print(\"Manual cross entropy loss:\",stable_ce(scores, labels) )"
   ]
  },
  {
   "cell_type": "markdown",
   "id": "07394a73",
   "metadata": {},
   "source": [
    "Stabilized!"
   ]
  }
 ],
 "metadata": {
  "kernelspec": {
   "display_name": "base",
   "language": "python",
   "name": "python3"
  },
  "language_info": {
   "codemirror_mode": {
    "name": "ipython",
    "version": 3
   },
   "file_extension": ".py",
   "mimetype": "text/x-python",
   "name": "python",
   "nbconvert_exporter": "python",
   "pygments_lexer": "ipython3",
   "version": "3.12.9"
  }
 },
 "nbformat": 4,
 "nbformat_minor": 5
}
